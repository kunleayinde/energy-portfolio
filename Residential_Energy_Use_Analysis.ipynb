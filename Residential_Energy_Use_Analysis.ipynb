{
 "cells": [
  {
   "cell_type": "markdown",
   "id": "a88bdb5c",
   "metadata": {},
   "source": [
    "# Residential Energy Use Analysis (RECS 2009)"
   ]
  },
  {
   "cell_type": "code",
   "execution_count": null,
   "id": "821b0ae6",
   "metadata": {},
   "outputs": [],
   "source": [
    "import pandas as pd\n",
    "import matplotlib.pyplot as plt\n",
    "from fpdf import FPDF\n",
    "\n",
    "file_path = \"/mnt/data/recs2009_public.csv\"\n",
    "df = pd.read_csv(file_path)"
   ]
  },
  {
   "cell_type": "markdown",
   "id": "4bcd222b",
   "metadata": {},
   "source": [
    "## Identify Energy-Related Columns"
   ]
  },
  {
   "cell_type": "code",
   "execution_count": null,
   "id": "0cc1e303",
   "metadata": {},
   "outputs": [],
   "source": [
    "df.columns[df.columns.str.contains(\"KWH|BTU|ENERGY\")]"
   ]
  },
  {
   "cell_type": "markdown",
   "id": "0fefd22b",
   "metadata": {},
   "source": [
    "## Average TOTALBTU by Region"
   ]
  },
  {
   "cell_type": "code",
   "execution_count": null,
   "id": "d90ebf02",
   "metadata": {},
   "outputs": [],
   "source": [
    "region_labels = {1: \"Northeast\", 2: \"Midwest\", 3: \"South\", 4: \"West\"}\n",
    "df_region = df.groupby(\"REGIONC\")[\"TOTALBTU\"].mean().sort_index()\n",
    "df_region.index = df_region.index.map(region_labels)\n",
    "\n",
    "plt.figure(figsize=(8, 5))\n",
    "plt.bar(df_region.index, df_region.values)\n",
    "plt.ylabel(\"Average Total Energy Use (BTU)\")\n",
    "plt.title(\"Average Household Energy Consumption by Region\")\n",
    "plt.grid(axis=\"y\")\n",
    "plt.tight_layout()\n",
    "plt.show()"
   ]
  },
  {
   "cell_type": "markdown",
   "id": "7d862fa7",
   "metadata": {},
   "source": [
    "## Region + Housing Type Energy Breakdown"
   ]
  },
  {
   "cell_type": "code",
   "execution_count": null,
   "id": "9fac7b63",
   "metadata": {},
   "outputs": [],
   "source": [
    "housing_labels = {\n",
    "    1: \"Mobile Home\",\n",
    "    2: \"Single-Family Detached\",\n",
    "    3: \"Single-Family Attached\",\n",
    "    4: \"Apt (2–4 Units)\",\n",
    "    5: \"Apt (5+ Units)\"\n",
    "}\n",
    "df_grouped = df.groupby([\"REGIONC\", \"TYPEHUQ\"])[\"TOTALBTU\"].mean().unstack()\n",
    "df_grouped.index = df_grouped.index.map(region_labels)\n",
    "df_grouped.columns = [housing_labels.get(c, str(c)) for c in df_grouped.columns]\n",
    "\n",
    "df_grouped.plot(kind=\"bar\", figsize=(12, 6))\n",
    "plt.ylabel(\"Average Total Energy Use (BTU)\")\n",
    "plt.title(\"Average Household Energy Use by Region and Housing Type\")\n",
    "plt.grid(axis=\"y\")\n",
    "plt.tight_layout()\n",
    "plt.show()"
   ]
  },
  {
   "cell_type": "markdown",
   "id": "bc7d57bf",
   "metadata": {},
   "source": [
    "## Heating & Cooling Share by Region"
   ]
  },
  {
   "cell_type": "code",
   "execution_count": null,
   "id": "12c6506f",
   "metadata": {},
   "outputs": [],
   "source": [
    "df_heat_cool = df[[\"REGIONC\", \"TOTALBTU\", \"TOTALBTUSPH\", \"TOTALBTUCOL\"]].dropna()\n",
    "grouped = df_heat_cool.groupby(\"REGIONC\").mean()\n",
    "grouped[\"% Heating\"] = (grouped[\"TOTALBTUSPH\"] / grouped[\"TOTALBTU\"]) * 100\n",
    "grouped[\"% Cooling\"] = (grouped[\"TOTALBTUCOL\"] / grouped[\"TOTALBTU\"]) * 100\n",
    "grouped.index = grouped.index.map(region_labels)\n",
    "\n",
    "grouped[[\"% Heating\", \"% Cooling\"]].plot(kind=\"bar\", figsize=(10, 6))\n",
    "plt.title(\"Share of Energy Use for Heating vs Cooling by Region\")\n",
    "plt.ylabel(\"Percent of Total Household Energy Use\")\n",
    "plt.tight_layout()\n",
    "plt.show()"
   ]
  },
  {
   "cell_type": "markdown",
   "id": "23f4fb52",
   "metadata": {},
   "source": [
    "## Heating/Cooling Breakdown by Region + Housing Type"
   ]
  },
  {
   "cell_type": "code",
   "execution_count": null,
   "id": "d468be50",
   "metadata": {},
   "outputs": [],
   "source": [
    "df_full = df[[\"REGIONC\", \"TYPEHUQ\", \"TOTALBTU\", \"TOTALBTUSPH\", \"TOTALBTUCOL\"]].dropna()\n",
    "full_grouped = df_full.groupby([\"REGIONC\", \"TYPEHUQ\"]).mean()\n",
    "full_grouped[\"% Heating\"] = (full_grouped[\"TOTALBTUSPH\"] / full_grouped[\"TOTALBTU\"]) * 100\n",
    "full_grouped[\"% Cooling\"] = (full_grouped[\"TOTALBTUCOL\"] / full_grouped[\"TOTALBTU\"]) * 100\n",
    "\n",
    "full_grouped = full_grouped.reset_index()\n",
    "full_grouped[\"REGIONC\"] = full_grouped[\"REGIONC\"].map(region_labels)\n",
    "full_grouped[\"TYPEHUQ\"] = full_grouped[\"TYPEHUQ\"].map(housing_labels)\n",
    "\n",
    "heating_by_type = full_grouped.pivot(index=\"REGIONC\", columns=\"TYPEHUQ\", values=\"% Heating\")\n",
    "cooling_by_type = full_grouped.pivot(index=\"REGIONC\", columns=\"TYPEHUQ\", values=\"% Cooling\")"
   ]
  },
  {
   "cell_type": "markdown",
   "id": "b514e0c4",
   "metadata": {},
   "source": [
    "## Save Visuals"
   ]
  },
  {
   "cell_type": "code",
   "execution_count": null,
   "id": "3e1d50c0",
   "metadata": {},
   "outputs": [],
   "source": [
    "heating_by_type.plot(kind=\"bar\", figsize=(12, 6))\n",
    "plt.title(\"Space Heating Energy Share by Region and Housing Type\")\n",
    "plt.tight_layout()\n",
    "plt.savefig(\"/mnt/data/heating_energy_share_by_region.png\")\n",
    "plt.close()\n",
    "\n",
    "cooling_by_type.plot(kind=\"bar\", figsize=(12, 6))\n",
    "plt.title(\"Cooling Energy Share by Region and Housing Type\")\n",
    "plt.tight_layout()\n",
    "plt.savefig(\"/mnt/data/cooling_energy_share_by_region.png\")\n",
    "plt.close()"
   ]
  },
  {
   "cell_type": "markdown",
   "id": "908c35ca",
   "metadata": {},
   "source": [
    "## Export Report to PDF"
   ]
  },
  {
   "cell_type": "code",
   "execution_count": null,
   "id": "29e52d32",
   "metadata": {},
   "outputs": [],
   "source": [
    "pdf = FPDF()\n",
    "pdf.add_page()\n",
    "pdf.set_font(\"Arial\", size=12)\n",
    "pdf.multi_cell(0, 10, \"Residential Energy Use Report (RECS 2009)\")\n",
    "pdf.image(\"/mnt/data/heating_energy_share_by_region.png\", w=180)\n",
    "pdf.image(\"/mnt/data/cooling_energy_share_by_region.png\", w=180)\n",
    "pdf.output(\"/mnt/data/Residential_Energy_Use_Portfolio.pdf\")"
   ]
  }
 ],
 "metadata": {},
 "nbformat": 4,
 "nbformat_minor": 5
}